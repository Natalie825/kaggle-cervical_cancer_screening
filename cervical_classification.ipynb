{
 "cells": [
  {
   "cell_type": "markdown",
   "metadata": {},
   "source": [
    "# Intel Cervical Cancer Screening\n",
    "### April 21, 2017\n",
    "## Satchel Grant\n",
    "\n",
    "### Overview\n",
    "The goal of this notebook is to classify a woman's cervical type into 1 of 3 classes from medical imaging data. This assists in determination of cancer diagnoses and treatments.\n",
    "\n",
    "### Initial Imports"
   ]
  },
  {
   "cell_type": "code",
   "execution_count": 1,
   "metadata": {
    "collapsed": true
   },
   "outputs": [],
   "source": [
    "import numpy as np\n",
    "import matplotlib.pyplot as plt\n",
    "import matplotlib.image as mpimg\n",
    "import os\n",
    "from sklearn.utils import shuffle\n",
    "import scipy.misc as sci\n",
    "import time\n",
    "from PIL import Image\n",
    "\n",
    "%matplotlib inline\n",
    "\n",
    "def show_img(img):\n",
    "    plt.imshow(img)\n",
    "    plt.show()"
   ]
  },
  {
   "cell_type": "markdown",
   "metadata": {},
   "source": [
    "### Reading in the Data\n",
    "The images are stored as jpg files, stored in folders corresponding to their classification. I read in the image os paths to be converted to images later in batches. I store their classification in a parallel array. "
   ]
  },
  {
   "cell_type": "code",
   "execution_count": 4,
   "metadata": {
    "collapsed": false
   },
   "outputs": [
    {
     "name": "stdout",
     "output_type": "stream",
     "text": [
      "Number of data samples: 1481\n",
      "Number of Classes: 3\n"
     ]
    }
   ],
   "source": [
    "root_path = './train/'\n",
    "\n",
    "def read_paths(path, no_labels=False):\n",
    "    file_paths = []\n",
    "    labels = []\n",
    "    labels_to_nums = dict()\n",
    "    for dir_name, subdir_list, file_list in os.walk(path):\n",
    "        if len(subdir_list) > 0:\n",
    "            n_labels = len(subdir_list)\n",
    "            for i,subdir in enumerate(subdir_list):\n",
    "                labels_to_nums[subdir] = i\n",
    "        else:\n",
    "            type_ = dir_name.split('/')[-1]\n",
    "        for img_file in file_list:\n",
    "            if '.jpg' in img_file.lower():\n",
    "                file_paths.append(os.path.join(dir_name,img_file))\n",
    "                if no_labels: labels.append(img_file)\n",
    "                else: labels.append(labels_to_nums[type_])\n",
    "    return file_paths, labels, n_labels\n",
    "    \n",
    "\n",
    "image_paths, labels,n_labels = read_paths(root_path)\n",
    "image_paths, labels = shuffle(image_paths, labels)\n",
    "\n",
    "print(\"Number of data samples: \" + str(len(image_paths)))\n",
    "print(\"Number of Classes: \" + str(n_labels))"
   ]
  },
  {
   "cell_type": "markdown",
   "metadata": {},
   "source": [
    "This is a relatively small number of samples to use for deep learning... Luckily Kaggle provided more samples than just those in the train set. I will read those in as well after initial prototyping is finished."
   ]
  },
  {
   "cell_type": "markdown",
   "metadata": {},
   "source": [
    "### Data Augmentation\n",
    "The following cells add rotations and translations to the dataset. This increases the number of samples for training which helps the model generalize better. This prevents overfitting the training set."
   ]
  },
  {
   "cell_type": "code",
   "execution_count": null,
   "metadata": {
    "collapsed": true
   },
   "outputs": [],
   "source": [
    "def rotate(image, angle, ones, color_range):\n",
    "    rot_image = sci.imrotate(image, angle).astype(np.float32)\n",
    "    edge_filler = np.random.random(rot_image.shape).astype(np.float32)*color_range\n",
    "    rot_image[ones[:,:,:]!=1] = edge_filler[ones[:,:,:]!=1]\n",
    "    return rot_image\n",
    "\n",
    "def translate(image, row_shift, col_shift, color_range):\n",
    "    trans_image = np.random.random(image.shape).astype(np.float32)*color_range\n",
    "    if row_amt > 0:\n",
    "        if col_amt > 0:\n",
    "            translation[row_amt:,col_amt:] = img[:-row_amt,:-col_amt]\n",
    "        elif col_amt < 0:\n",
    "            translation[row_amt:,:col_amt] = img[:-row_amt,-col_amt:]\n",
    "        else:\n",
    "            translation[row_amt:,:] = img[:-row_amt,:]\n",
    "    elif row_amt < 0:\n",
    "        if col_amt > 0:\n",
    "            translation[:row_amt,col_amt:] = img[-row_amt:,:-col_amt]\n",
    "        elif col_amt < 0:\n",
    "            translation[:row_amt,:col_amt] = img[-row_amt:,-col_amt:]\n",
    "        else:\n",
    "            translation[:row_amt,:] = img[-row_amt:,:]\n",
    "    else:\n",
    "        if col_amt > 0:\n",
    "            translation[:,col_amt:] = img[:,:-col_amt]\n",
    "        elif col_amt < 0:\n",
    "            translation[:,:col_amt] = img[:,-col_amt:]\n",
    "        else:\n",
    "            return img.copy()\n",
    "    return translation\n",
    "\n",
    "def add_augmentations(paths, rot_angles=[10,-10], row_shift=15, col_shift=15):\n",
    "    img = mpimg.imread(paths[0])\n",
    "    ones = [sci.imrotate(np.ones_like(img),rot_angles[i]) for i in range(len(rot_angles))]\n",
    "    for path in paths:\n",
    "        img = mpimg.imread(path)\n",
    "        for i,angle in enumerate(rot_angles):\n",
    "            add_augmentation(img,path,angle,row_shift,col_shift,ones[i])\n",
    "\n",
    "def add_augmentation(img,path,angle,row_shift,col_shift,ones):\n",
    "    color_range = 255\n",
    "    new_img = rotate(img,angle,ones, color_range)\n",
    "    new_img = translate(new_img,random.randint(-row_shift,row_shift),random.randint(-col_shift,col_shift), color_range)\n",
    "    new_img = new_img.astype(np.uint8)\n",
    "    split_path = path.split('/')\n",
    "    i = 1\n",
    "    if angle < 0: i = 2\n",
    "    split_path[-1] = 'augmented_'+ str(i)+\"_\"+ split_path[-1]\n",
    "    new_path = '/'.join(split_path)\n",
    "    jpeg = Image.fromarray(new_img)\n",
    "    jpeg.save(new_path)\n",
    "\n",
    "\n",
    "def one_hot_encode(labels, n_classes):\n",
    "    one_hots = []\n",
    "    for label in labels:\n",
    "        one_hot = [0]*n_classes\n",
    "        one_hot[label] = 1\n",
    "        one_hots.append(one_hot)\n",
    "    return np.array(one_hots,dtype=np.float32)\n"
   ]
  }
 ],
 "metadata": {
  "kernelspec": {
   "display_name": "Python 3",
   "language": "python",
   "name": "python3"
  },
  "language_info": {
   "codemirror_mode": {
    "name": "ipython",
    "version": 3
   },
   "file_extension": ".py",
   "mimetype": "text/x-python",
   "name": "python",
   "nbconvert_exporter": "python",
   "pygments_lexer": "ipython3",
   "version": "3.5.2"
  },
  "widgets": {
   "state": {},
   "version": "1.1.2"
  }
 },
 "nbformat": 4,
 "nbformat_minor": 2
}
